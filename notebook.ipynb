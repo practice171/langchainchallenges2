{
 "cells": [
  {
   "cell_type": "code",
   "execution_count": 2,
   "metadata": {},
   "outputs": [
    {
     "name": "stdout",
     "output_type": "stream",
     "text": [
      "AI:\n",
      "        Director: Christopher Nolan\n",
      "        Main Cast: Christian Bale, Heath Ledger, Aaron Eckhart, Michael Caine, Maggie Gyllenhaal\n",
      "        Budget: $185 million\n",
      "        Box Office Revenue: $1.005 billion\n",
      "        Genre: Action, Crime, Drama, Thriller\n",
      "        Synopsis:\n",
      "        In this sequel to \"Batman Begins,\" the caped crusader faces his greatest challenge yet in the form of the Joker, a sadistic criminal mastermind who wreaks havoc on Gotham City. As Batman grapples with his own moral code and the chaos unleashed by the Joker, District Attorney Harvey Dent is pushed to his limits, leading to a battle for the soul of Gotham."
     ]
    },
    {
     "data": {
      "text/plain": [
       "AIMessageChunk(content='AI:\\n        Director: Christopher Nolan\\n        Main Cast: Christian Bale, Heath Ledger, Aaron Eckhart, Michael Caine, Maggie Gyllenhaal\\n        Budget: $185 million\\n        Box Office Revenue: $1.005 billion\\n        Genre: Action, Crime, Drama, Thriller\\n        Synopsis:\\n        In this sequel to \"Batman Begins,\" the caped crusader faces his greatest challenge yet in the form of the Joker, a sadistic criminal mastermind who wreaks havoc on Gotham City. As Batman grapples with his own moral code and the chaos unleashed by the Joker, District Attorney Harvey Dent is pushed to his limits, leading to a battle for the soul of Gotham.')"
      ]
     },
     "execution_count": 2,
     "metadata": {},
     "output_type": "execute_result"
    }
   ],
   "source": [
    "from langchain.chat_models import ChatOpenAI\n",
    "from langchain.prompts.few_shot import FewShotPromptTemplate\n",
    "from langchain.callbacks import StreamingStdOutCallbackHandler\n",
    "from langchain.prompts.prompt import PromptTemplate\n",
    "\n",
    "chat = ChatOpenAI(\n",
    "    temperature=0.1,\n",
    "    streaming=True,\n",
    "    callbacks=[\n",
    "        StreamingStdOutCallbackHandler(),\n",
    "    ],\n",
    ")\n",
    "\n",
    "\n",
    "examples = [\n",
    "    {\n",
    "        \"question\": \"What do you know about Oppenheimer?\",\n",
    "        \"answer\": \"\"\"\n",
    "        Here is what I know:\n",
    "        Director: Christopher Nolan\n",
    "        Main Cast: Cillian Murphy, Emily Blunt, Matt Damon, Robert Downey Jr., Florence Pugh\n",
    "        Budget: $180 million\n",
    "        Box Office Revenue: $940 million\n",
    "        Genre: Biographical, War, Drama, Political, Historical\n",
    "        Synopsis:\n",
    "        \"I am become Death, the destroyer of worlds.\"\n",
    "        A genius scientist faces a dilemma that could lead to the destruction of the world as he develops the atomic bomb in an effort to save it.\n",
    "        \"\"\",\n",
    "    },\n",
    "    {\n",
    "        \"question\": \"What do you know about Interstellar?\",\n",
    "        \"answer\": \"\"\"\n",
    "        I know this:   \n",
    "        Director: Christopher Nolan\n",
    "        Main Cast: Matthew McConaughey, Anne Hathaway, Jessica Chastain, Michael Caine, Mackenzie Foy\n",
    "        Budget: $165 million\n",
    "        Box Office Revenue: $773 million\n",
    "        Genre: Science Fiction, Adventure, Drama\n",
    "        Synopsis:\n",
    "        In a future where Earth is becoming uninhabitable, ex-NASA pilot Joseph Cooper (Matthew McConaughey) joins a mission through a wormhole to find a new home for humanity. The journey tests the boundaries of human knowledge, love, and survival while exploring profound scientific concepts like relativity and time dilation.\n",
    "        \"\"\",\n",
    "    },\n",
    "    {\n",
    "        \"question\": \"What do you know about Arrival?\",\n",
    "        \"answer\": \"\"\"\n",
    "        Director: Denis Villeneuve\n",
    "        Main Cast: Amy Adams, Jeremy Renner, Forest Whitaker, Michael Stuhlbarg\n",
    "        Budget: $47 million\n",
    "        Box Office Revenue: Approximately $203 million\n",
    "        Genre: Drama, Mystery, Science Fiction\n",
    "        Synopsis:\n",
    "        When mysterious extraterrestrial spacecraft land in multiple locations around the world, linguist Louise Banks (Amy Adams) is recruited by the U.S. military to decipher the aliens' language and understand their purpose. As she unravels the mysteries of their communication, Louise grapples with profound revelations about time, memory, and humanity's interconnectedness, even as the world teeters on the brink of conflict​\n",
    "        \"\"\",\n",
    "    },\n",
    "]\n",
    "\n",
    "\n",
    "example_prompt = PromptTemplate.from_template(\"Human: {question}\\nAI:{answer}\")\n",
    "\n",
    "prompt = FewShotPromptTemplate(\n",
    "    example_prompt=example_prompt,\n",
    "    examples=examples,\n",
    "    suffix=\"Human: What do you know about {movename}?\",\n",
    "    input_variables=[\"movename\"],\n",
    ")\n",
    "\n",
    "chain = prompt | chat\n",
    "\n",
    "chain.invoke({\"movename\": \"The Dark Knight\"})"
   ]
  }
 ],
 "metadata": {
  "kernelspec": {
   "display_name": "env",
   "language": "python",
   "name": "python3"
  },
  "language_info": {
   "codemirror_mode": {
    "name": "ipython",
    "version": 3
   },
   "file_extension": ".py",
   "mimetype": "text/x-python",
   "name": "python",
   "nbconvert_exporter": "python",
   "pygments_lexer": "ipython3",
   "version": "3.11.11"
  }
 },
 "nbformat": 4,
 "nbformat_minor": 2
}
